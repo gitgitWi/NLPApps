{
 "cells": [
  {
   "cell_type": "markdown",
   "metadata": {},
   "source": [
    "# Neural Network with Quadratic Data\n",
    "출처: https://github.com/GunhoChoi/PyTorch-FastCampus/blob/master/02_Regression%26NN/1_NN_code/1d_data/0_neural_quadratic.ipynb\n",
    "- y = 8x^2+7x+3\n",
    "- 4 hidden layers\n",
    "\n",
    "<img src=\"./quadratic.png\">\n",
    "\n",
    "사진출처: http://cs.franklin.edu/~sieberth/MATH160/bookFiles/Chapter3/333371_0307_317-323.pdf "
   ]
  },
  {
   "cell_type": "markdown",
   "metadata": {},
   "source": [
    "## 1.Import Required Libraries"
   ]
  },
  {
   "cell_type": "code",
   "execution_count": 9,
   "metadata": {},
   "outputs": [
    {
     "name": "stderr",
     "output_type": "stream",
     "text": [
      "WARNING:root:Setting up a new session...\n"
     ]
    }
   ],
   "source": [
    "import numpy as np\n",
    "import torch\n",
    "import torch.nn as nn\n",
    "import torch.optim as optim\n",
    "import torch.nn.init as init\n",
    "\n",
    "from torch.autograd import Variable\n",
    "from visdom import Visdom\n",
    "viz = Visdom()"
   ]
  },
  {
   "cell_type": "code",
   "execution_count": null,
   "metadata": {},
   "outputs": [],
   "source": []
  },
  {
   "cell_type": "markdown",
   "metadata": {},
   "source": [
    "## 2. Data Generation"
   ]
  },
  {
   "cell_type": "code",
   "execution_count": 3,
   "metadata": {},
   "outputs": [
    {
     "name": "stderr",
     "output_type": "stream",
     "text": [
      "/anaconda3/envs/NLPApps/lib/python3.7/site-packages/ipykernel_launcher.py:4: UserWarning: nn.init.normal is now deprecated in favor of nn.init.normal_.\n",
      "  after removing the cwd from sys.path.\n",
      "/anaconda3/envs/NLPApps/lib/python3.7/site-packages/ipykernel_launcher.py:6: UserWarning: nn.init.uniform is now deprecated in favor of nn.init.uniform_.\n",
      "  \n"
     ]
    }
   ],
   "source": [
    "num_data = 1000\n",
    "num_epoch = 5000\n",
    "\n",
    "noise = init.normal(torch.FloatTensor(num_data,1),std=3)\n",
    "\n",
    "x = init.uniform(torch.Tensor(num_data,1),-15,15)\n",
    "y = (x**2) + 3 \n",
    "\n",
    "y_noise = y + noise"
   ]
  },
  {
   "cell_type": "code",
   "execution_count": 4,
   "metadata": {},
   "outputs": [],
   "source": [
    "# visualize data\n",
    "\n",
    "input_data = torch.cat([x,y_noise],1)\n",
    "\n",
    "win=viz.scatter(\n",
    "    X = input_data,\n",
    "    opts=dict(\n",
    "        xtickmin=-15,\n",
    "        xtickmax=15,\n",
    "        xtickstep=1,\n",
    "        ytickmin=0,\n",
    "        ytickmax=500,\n",
    "        ytickstep=1,\n",
    "        markersymbol='dot',\n",
    "        markercolor=np.random.randint(0, 255, num_data),\n",
    "        markersize=5,\n",
    "    ),\n",
    ")\n"
   ]
  },
  {
   "cell_type": "code",
   "execution_count": 5,
   "metadata": {},
   "outputs": [],
   "source": [
    "\n",
    "win=viz.scatter(\n",
    "    X = torch.cat([x,y],1),\n",
    "    opts=dict(\n",
    "        xtickmin=-15,\n",
    "        xtickmax=15,\n",
    "        xtickstep=1,\n",
    "        ytickmin=0,\n",
    "        ytickmax=500,\n",
    "        ytickstep=1,\n",
    "        markersymbol='dot',\n",
    "        markercolor=np.random.randint(0, 255, num_data),\n",
    "        markersize=5,\n",
    "    ),\n",
    ")\n"
   ]
  },
  {
   "cell_type": "markdown",
   "metadata": {},
   "source": [
    "## 문제1. Layer가 4개인 Neural모델을 생성해 봅시다.\n",
    " - layer1은 W가 6개 + ReLU\n",
    " - layer2는 W가 4개 + ReLU\n",
    " - layer3은 W가 7개 + ReLU\n",
    " - 힌트: 마지막에 반환될 값은 한개가 되겠죠?"
   ]
  },
  {
   "cell_type": "markdown",
   "metadata": {},
   "source": [
    "## 3. Model & Optimizer"
   ]
  },
  {
   "cell_type": "code",
   "execution_count": 7,
   "metadata": {},
   "outputs": [],
   "source": [
    "# 3. Build the Model as a Class\n",
    "\n",
    "model = nn.Sequential(\n",
    "        nn.Linear(input_size, hidden_size),\n",
    "        nn.ReLU(),\n",
    "        nn.Linear(6,1)\n",
    "    )\n",
    "\n",
    "class MyModel(nn.Module):\n",
    "    def __init__(self, input_size, hidden_size, output_size):\n",
    "        super(MyModel, self).__init__()\n",
    "\n",
    "        self.linear1 = nn.Linear(input_size, hidden_size) ## 코드를 작성해 보세요!! 힌트: W의 갯수가 몇개죠?\n",
    "        self.relu = nn.ReLU()##  코드를 작성해 보세요!!\n",
    "        self.linear2 = nn.Linear(hidden_size, output_size) ## 코드를 작성해 보세요!! 힌트: 몇개의 데이터가 최종적으로 반환되어야 할까요?\n",
    "        \n",
    "    def forward(self, x):\n",
    "        \n",
    "        #z2 = 코드를 작성해 보세요\n",
    "        y = self.linear1(x)\n",
    "        y_relu = self.relu(y)\n",
    "        z = self.linear2(y_relu)\n",
    "        \n",
    "        return z\n",
    "\n",
    "model = MyModel(1,6,1)\n",
    "\n",
    "loss_func = nn.L1Loss()\n",
    "optimizer = optim.SGD(model.parameters(),lr=0.001)"
   ]
  },
  {
   "cell_type": "code",
   "execution_count": null,
   "metadata": {},
   "outputs": [],
   "source": [
    "'''\n",
    "model = nn.Sequential(\n",
    "\n",
    "    ## 여기에 코드를 넣으세요.\n",
    "    \n",
    "    )\n",
    "'''"
   ]
  },
  {
   "cell_type": "markdown",
   "metadata": {},
   "source": [
    "## 4. Train "
   ]
  },
  {
   "cell_type": "code",
   "execution_count": 8,
   "metadata": {
    "scrolled": true
   },
   "outputs": [
    {
     "name": "stdout",
     "output_type": "stream",
     "text": [
      "tensor(72.3695, grad_fn=<L1LossBackward>)\n",
      "tensor(69.1100, grad_fn=<L1LossBackward>)\n",
      "tensor(63.3749, grad_fn=<L1LossBackward>)\n",
      "tensor(53.0255, grad_fn=<L1LossBackward>)\n",
      "tensor(39.4897, grad_fn=<L1LossBackward>)\n",
      "tensor(28.5333, grad_fn=<L1LossBackward>)\n",
      "tensor(23.0344, grad_fn=<L1LossBackward>)\n",
      "tensor(21.7502, grad_fn=<L1LossBackward>)\n",
      "tensor(21.5911, grad_fn=<L1LossBackward>)\n",
      "tensor(21.4855, grad_fn=<L1LossBackward>)\n",
      "tensor(21.3854, grad_fn=<L1LossBackward>)\n",
      "tensor(21.2873, grad_fn=<L1LossBackward>)\n",
      "tensor(21.1900, grad_fn=<L1LossBackward>)\n",
      "tensor(21.0955, grad_fn=<L1LossBackward>)\n",
      "tensor(21.0039, grad_fn=<L1LossBackward>)\n",
      "tensor(20.9142, grad_fn=<L1LossBackward>)\n",
      "tensor(20.8259, grad_fn=<L1LossBackward>)\n",
      "tensor(20.7379, grad_fn=<L1LossBackward>)\n",
      "tensor(20.6507, grad_fn=<L1LossBackward>)\n",
      "tensor(20.5643, grad_fn=<L1LossBackward>)\n",
      "tensor(20.4782, grad_fn=<L1LossBackward>)\n",
      "tensor(20.3928, grad_fn=<L1LossBackward>)\n",
      "tensor(20.3076, grad_fn=<L1LossBackward>)\n",
      "tensor(20.2225, grad_fn=<L1LossBackward>)\n",
      "tensor(20.1384, grad_fn=<L1LossBackward>)\n",
      "tensor(20.0557, grad_fn=<L1LossBackward>)\n",
      "tensor(19.9738, grad_fn=<L1LossBackward>)\n",
      "tensor(19.8913, grad_fn=<L1LossBackward>)\n",
      "tensor(19.8082, grad_fn=<L1LossBackward>)\n",
      "tensor(19.7247, grad_fn=<L1LossBackward>)\n",
      "tensor(19.6406, grad_fn=<L1LossBackward>)\n",
      "tensor(19.5571, grad_fn=<L1LossBackward>)\n",
      "tensor(19.4736, grad_fn=<L1LossBackward>)\n",
      "tensor(19.3894, grad_fn=<L1LossBackward>)\n",
      "tensor(19.3055, grad_fn=<L1LossBackward>)\n",
      "tensor(19.2208, grad_fn=<L1LossBackward>)\n",
      "tensor(19.1364, grad_fn=<L1LossBackward>)\n",
      "tensor(19.0525, grad_fn=<L1LossBackward>)\n",
      "tensor(18.9674, grad_fn=<L1LossBackward>)\n",
      "tensor(18.8810, grad_fn=<L1LossBackward>)\n",
      "tensor(18.7932, grad_fn=<L1LossBackward>)\n",
      "tensor(18.7046, grad_fn=<L1LossBackward>)\n",
      "tensor(18.6154, grad_fn=<L1LossBackward>)\n",
      "tensor(18.5280, grad_fn=<L1LossBackward>)\n",
      "tensor(18.4411, grad_fn=<L1LossBackward>)\n",
      "tensor(18.3547, grad_fn=<L1LossBackward>)\n",
      "tensor(18.2679, grad_fn=<L1LossBackward>)\n",
      "tensor(18.1808, grad_fn=<L1LossBackward>)\n",
      "tensor(18.0936, grad_fn=<L1LossBackward>)\n",
      "tensor(18.0057, grad_fn=<L1LossBackward>)\n"
     ]
    }
   ],
   "source": [
    "loss_arr =[]\n",
    "label = y_noise\n",
    "\n",
    "for i in range(num_epoch):\n",
    "    optimizer.zero_grad()\n",
    "    output = model.forward(x)\n",
    "\n",
    "    loss = loss_func(output,label)\n",
    "    loss.backward()\n",
    "    optimizer.step()\n",
    "    \n",
    "    if i % 100 ==0:\n",
    "        print(loss)\n",
    "    \n",
    "    #loss_arr.append(loss.cpu().data.numpy()[0])\n",
    "    loss_arr.append(loss.item())"
   ]
  },
  {
   "cell_type": "code",
   "execution_count": null,
   "metadata": {},
   "outputs": [],
   "source": [
    "param_list = list(model.parameters())\n",
    "print(param_list)"
   ]
  },
  {
   "cell_type": "markdown",
   "metadata": {},
   "source": [
    "## 5. Visualize Trained Output"
   ]
  },
  {
   "cell_type": "code",
   "execution_count": null,
   "metadata": {},
   "outputs": [],
   "source": [
    "win2=viz.scatter(\n",
    "    X = torch.cat([x, output],1),\n",
    "    opts=dict(\n",
    "        xtickmin=-15,\n",
    "        xtickmax=10,\n",
    "        xtickstep=1,\n",
    "        ytickmin=0,\n",
    "        ytickmax=500,\n",
    "        ytickstep=1,\n",
    "        markersymbol='dot',\n",
    "        markercolor=np.random.randint(0, 255, num_data),\n",
    "        markersize=5,\n",
    "    ),\n",
    ")\n"
   ]
  },
  {
   "cell_type": "markdown",
   "metadata": {},
   "source": [
    "## 6. Visualize Loss Graph"
   ]
  },
  {
   "cell_type": "code",
   "execution_count": null,
   "metadata": {},
   "outputs": [],
   "source": [
    "x = np.reshape([i for i in range(num_epoch)],newshape=[num_epoch,1])\n",
    "loss_data = np.reshape(loss_arr,newshape=[num_epoch,1])\n",
    "\n",
    "win3=viz.line(\n",
    "    X = x,\n",
    "    Y = loss_data,\n",
    ")"
   ]
  }
 ],
 "metadata": {
  "kernelspec": {
   "display_name": "Python 3",
   "language": "python",
   "name": "python3"
  },
  "language_info": {
   "codemirror_mode": {
    "name": "ipython",
    "version": 3
   },
   "file_extension": ".py",
   "mimetype": "text/x-python",
   "name": "python",
   "nbconvert_exporter": "python",
   "pygments_lexer": "ipython3",
   "version": "3.7.1"
  }
 },
 "nbformat": 4,
 "nbformat_minor": 1
}
