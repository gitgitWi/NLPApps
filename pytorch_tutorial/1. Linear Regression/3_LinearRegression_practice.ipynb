{
 "cells": [
  {
   "cell_type": "markdown",
   "metadata": {},
   "source": [
    "# Linear regression 실습"
   ]
  },
  {
   "cell_type": "markdown",
   "metadata": {},
   "source": [
    "#### 기계학습에 가장 기초가 되지만 가장 중요한 개념이 담겨있는 Linear regression문제입니다. 꼭 스스로 고민해보시고 생성된 값들을 print문으로 확인해 보세요. 자체 제작한 실습 문제로 마음껏 공유해주세요. "
   ]
  },
  {
   "cell_type": "code",
   "execution_count": 1,
   "metadata": {},
   "outputs": [],
   "source": [
    "import torch\n",
    "import numpy as np"
   ]
  },
  {
   "cell_type": "code",
   "execution_count": 2,
   "metadata": {},
   "outputs": [],
   "source": [
    "#HyperParameter settings\n",
    "input_size = 1\n",
    "output_size = 1\n",
    "epoch = 60\n",
    "learning_rate = 0.001"
   ]
  },
  {
   "cell_type": "markdown",
   "metadata": {},
   "source": [
    "## 1. 학습 데이터를 직접 Static하게 만들어 보세요. List 생성\n",
    " - x = 공부한 시간 데이터, (list 형태의 15개 데이터, 0~10시간)\n",
    " - y = 공부시간 대비 시험점수 데이터, (list 형태의 15개 데이터, 1.0 ~ 4.3)\n",
    "\n",
    "## 2. 학습 데이터를 pytorch의 tensor형태로 변경해 보세요.\n",
    " - x_train = pytorch.xxxxx\n",
    " - y_train = pytorch.xxxxx\n"
   ]
  },
  {
   "cell_type": "code",
   "execution_count": 3,
   "metadata": {},
   "outputs": [],
   "source": [
    "## 아래 주석을 지우고 코드를 채워 넣어보세요.\n",
    "# x = [5, 4]\n",
    "# y = [2.0, 3.0]\n",
    "# x_data = \n",
    "# y_data = "
   ]
  },
  {
   "cell_type": "markdown",
   "metadata": {},
   "source": [
    "## 3. Linear 모델을 생성해 보세요.\n",
    " - lmodel = torch.xxxxx"
   ]
  },
  {
   "cell_type": "code",
   "execution_count": 4,
   "metadata": {},
   "outputs": [],
   "source": [
    "## 아래 주석을 지우고 코드를 채워 넣어보세요.\n",
    "# lmodel = "
   ]
  },
  {
   "cell_type": "markdown",
   "metadata": {},
   "source": [
    "## 4. 생성된 Linear 모델을 실행하고 값을 확인해 봅시다."
   ]
  },
  {
   "cell_type": "code",
   "execution_count": 5,
   "metadata": {},
   "outputs": [],
   "source": [
    "## 아래 주석을 지우고 코드를 채워 넣어보세요.\n",
    "# output = \n",
    "# print(output)"
   ]
  },
  {
   "cell_type": "markdown",
   "metadata": {},
   "source": [
    "## 5. 생성된 값과 정답간의 오차를 알아야 하겠죠? pytorch를 활용해 loss function을 만들어 보세요. (힌트: Mean Squared Error)\n"
   ]
  },
  {
   "cell_type": "code",
   "execution_count": 6,
   "metadata": {},
   "outputs": [],
   "source": [
    "## 아래 주석을 지우고 코드를 채워 넣어보세요.\n",
    "# loss_function = torch.nn.xxx"
   ]
  },
  {
   "cell_type": "markdown",
   "metadata": {},
   "source": [
    "## 6. 오차에 따라 이제 linear model의 파라미터 w, b를 업데이트 할수 있도록 optimizer를 생성해 보세요. (힌트: Stochastic Gradient Decent)"
   ]
  },
  {
   "cell_type": "code",
   "execution_count": 7,
   "metadata": {},
   "outputs": [],
   "source": [
    "## 아래 주석을 지우고 코드를 채워 넣어보세요.\n",
    "# optimizer = torch.optim.xxxx"
   ]
  },
  {
   "cell_type": "markdown",
   "metadata": {},
   "source": [
    "## 7. 학습을 60회 반복하여 오차를 구하고 파라미터 w,b를 업데이트 해봐요"
   ]
  },
  {
   "cell_type": "code",
   "execution_count": 8,
   "metadata": {},
   "outputs": [
    {
     "ename": "SyntaxError",
     "evalue": "invalid syntax (<ipython-input-8-1c17a4cb7c0a>, line 5)",
     "output_type": "error",
     "traceback": [
      "\u001b[0;36m  File \u001b[0;32m\"<ipython-input-8-1c17a4cb7c0a>\"\u001b[0;36m, line \u001b[0;32m5\u001b[0m\n\u001b[0;31m    input_data = #Here put your answer\u001b[0m\n\u001b[0m                                      ^\u001b[0m\n\u001b[0;31mSyntaxError\u001b[0m\u001b[0;31m:\u001b[0m invalid syntax\n"
     ]
    }
   ],
   "source": [
    "#forward, backward, gradient decent\n",
    "for i in range(epoch):\n",
    "    print(\"epoch\",i)\n",
    "\n",
    "    input_data = #Here put your answer\n",
    "    target_data = #Here put your answer\n",
    "    \n",
    "    #forward, backward, optimization\n",
    "    optimizer.zero_grad() #init grads of the optimizer\n",
    "    \n",
    "    output = #Here put your answer\n",
    "    loss = #Here put your answer\n",
    "\n",
    "    loss.backward()\n",
    "    optimizer.step() #update grads\n",
    "    \n",
    "    if (i+1) % 5 == 0:\n",
    "        print('Epoch [%d/%d], Loss: %.4f' %(i+1, epoch, loss.item()))"
   ]
  }
 ],
 "metadata": {
  "kernelspec": {
   "display_name": "Python 3",
   "language": "python",
   "name": "python3"
  },
  "language_info": {
   "codemirror_mode": {
    "name": "ipython",
    "version": 3
   },
   "file_extension": ".py",
   "mimetype": "text/x-python",
   "name": "python",
   "nbconvert_exporter": "python",
   "pygments_lexer": "ipython3",
   "version": "3.7.1"
  }
 },
 "nbformat": 4,
 "nbformat_minor": 2
}
