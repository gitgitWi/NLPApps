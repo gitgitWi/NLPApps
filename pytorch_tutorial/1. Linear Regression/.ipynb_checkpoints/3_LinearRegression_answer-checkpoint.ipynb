{
 "cells": [
  {
   "cell_type": "markdown",
   "metadata": {},
   "source": [
    "# Linear regression 실습 모범 답안"
   ]
  },
  {
   "cell_type": "code",
   "execution_count": 1,
   "metadata": {},
   "outputs": [],
   "source": [
    "import torch\n",
    "import numpy as np"
   ]
  },
  {
   "cell_type": "code",
   "execution_count": 2,
   "metadata": {},
   "outputs": [],
   "source": [
    "#HyperParameter settings\n",
    "input_size = 1\n",
    "output_size = 1\n",
    "epoch = 60\n",
    "learning_rate = 0.001"
   ]
  },
  {
   "cell_type": "code",
   "execution_count": 3,
   "metadata": {},
   "outputs": [],
   "source": [
    "#preparing data\n",
    "'''\n",
    "x_train = np.array([[3.3], [4.4], [5.5], [6.71], [6.93], [4.168], \n",
    "                    [9.779], [6.182], [7.59], [2.167], [7.042], \n",
    "                    [10.791], [5.313], [7.997], [3.1]], dtype=np.float32)\n",
    "\n",
    "y_train = np.array([[1.7], [2.76], [2.09], [3.19], [1.694], [1.573], \n",
    "                    [3.366], [2.596], [2.53], [1.221], [2.827], \n",
    "                    [3.465], [1.65], [2.904], [1.3]], dtype=np.float32)\n",
    "'''\n",
    "\n",
    "x_train = torch.FloatTensor([[3.3], [4.4], [5.5], [6.71], [6.93], [4.168], \n",
    "                    [9.779], [6.182], [7.59], [2.167], [7.042], \n",
    "                    [10.791], [5.313], [7.997], [3.1]])\n",
    "\n",
    "y_train = torch.FloatTensor([[1.7], [2.76], [2.09], [3.19], [1.694], [1.573], \n",
    "                    [3.366], [2.596], [2.53], [1.221], [2.827], \n",
    "                    [3.465], [1.65], [2.904], [1.3]])"
   ]
  },
  {
   "cell_type": "code",
   "execution_count": 4,
   "metadata": {},
   "outputs": [
    {
     "data": {
      "text/plain": [
       "'\\n#define Model\\nclass LinearModel(torch.nn.Module):\\n    \\n    #Init parameters\\n    def __init__(self, input_size, output_size):\\n        super(LinearModel, self).__init__()\\n        self.linear = torch.nn.Linear(input_size, output_size)\\n\\n    def forward(self, x):\\n        #print(x_train)\\n        out = self.linear(x)\\n        #print(out)\\n        return out\\n'"
      ]
     },
     "execution_count": 4,
     "metadata": {},
     "output_type": "execute_result"
    }
   ],
   "source": [
    "'''\n",
    "#define Model\n",
    "class LinearModel(torch.nn.Module):\n",
    "    \n",
    "    #Init parameters\n",
    "    def __init__(self, input_size, output_size):\n",
    "        super(LinearModel, self).__init__()\n",
    "        self.linear = torch.nn.Linear(input_size, output_size)\n",
    "\n",
    "    def forward(self, x):\n",
    "        #print(x_train)\n",
    "        out = self.linear(x)\n",
    "        #print(out)\n",
    "        return out\n",
    "'''\n"
   ]
  },
  {
   "cell_type": "code",
   "execution_count": 5,
   "metadata": {},
   "outputs": [],
   "source": [
    "#Model generation\n",
    "#lmodel = LinearModel(len(x_train[0]), len(y_train[0]))\n",
    "lmodel = torch.nn.Linear(1,1)"
   ]
  },
  {
   "cell_type": "code",
   "execution_count": 6,
   "metadata": {},
   "outputs": [
    {
     "name": "stdout",
     "output_type": "stream",
     "text": [
      "tensor([[ 0.2483],\n",
      "        [ 0.1466],\n",
      "        [ 0.0449],\n",
      "        [-0.0670],\n",
      "        [-0.0873],\n",
      "        [ 0.1681],\n",
      "        [-0.3507],\n",
      "        [-0.0181],\n",
      "        [-0.1483],\n",
      "        [ 0.3531],\n",
      "        [-0.0977],\n",
      "        [-0.4443],\n",
      "        [ 0.0622],\n",
      "        [-0.1860],\n",
      "        [ 0.2668]], grad_fn=<AddmmBackward>)\n"
     ]
    }
   ],
   "source": [
    "output = lmodel(x_train)\n",
    "print(output)"
   ]
  },
  {
   "cell_type": "code",
   "execution_count": 7,
   "metadata": {},
   "outputs": [],
   "source": [
    "#Loss Optimizer\n",
    "loss_function = torch.nn.MSELoss()\n",
    "optimizer = torch.optim.SGD(lmodel.parameters(), lr=learning_rate)"
   ]
  },
  {
   "cell_type": "code",
   "execution_count": 8,
   "metadata": {},
   "outputs": [
    {
     "name": "stdout",
     "output_type": "stream",
     "text": [
      "ephoc 0\n",
      "ephoc 1\n",
      "ephoc 2\n",
      "ephoc 3\n",
      "ephoc 4\n",
      "Epoch [5/60], Loss: 3.1435\n",
      "ephoc 5\n",
      "ephoc 6\n",
      "ephoc 7\n",
      "ephoc 8\n",
      "ephoc 9\n",
      "Epoch [10/60], Loss: 1.3755\n",
      "ephoc 10\n",
      "ephoc 11\n",
      "ephoc 12\n",
      "ephoc 13\n",
      "ephoc 14\n",
      "Epoch [15/60], Loss: 0.6592\n",
      "ephoc 15\n",
      "ephoc 16\n",
      "ephoc 17\n",
      "ephoc 18\n",
      "ephoc 19\n",
      "Epoch [20/60], Loss: 0.3691\n",
      "ephoc 20\n",
      "ephoc 21\n",
      "ephoc 22\n",
      "ephoc 23\n",
      "ephoc 24\n",
      "Epoch [25/60], Loss: 0.2515\n",
      "ephoc 25\n",
      "ephoc 26\n",
      "ephoc 27\n",
      "ephoc 28\n",
      "ephoc 29\n",
      "Epoch [30/60], Loss: 0.2039\n",
      "ephoc 30\n",
      "ephoc 31\n",
      "ephoc 32\n",
      "ephoc 33\n",
      "ephoc 34\n",
      "Epoch [35/60], Loss: 0.1846\n",
      "ephoc 35\n",
      "ephoc 36\n",
      "ephoc 37\n",
      "ephoc 38\n",
      "ephoc 39\n",
      "Epoch [40/60], Loss: 0.1768\n",
      "ephoc 40\n",
      "ephoc 41\n",
      "ephoc 42\n",
      "ephoc 43\n",
      "ephoc 44\n",
      "Epoch [45/60], Loss: 0.1736\n",
      "ephoc 45\n",
      "ephoc 46\n",
      "ephoc 47\n",
      "ephoc 48\n",
      "ephoc 49\n",
      "Epoch [50/60], Loss: 0.1723\n",
      "ephoc 50\n",
      "ephoc 51\n",
      "ephoc 52\n",
      "ephoc 53\n",
      "ephoc 54\n",
      "Epoch [55/60], Loss: 0.1718\n",
      "ephoc 55\n",
      "ephoc 56\n",
      "ephoc 57\n",
      "ephoc 58\n",
      "ephoc 59\n",
      "Epoch [60/60], Loss: 0.1716\n"
     ]
    }
   ],
   "source": [
    "#forward, backward, gradient decent\n",
    "for i in range(epoch):\n",
    "    print(\"epoch\",i)\n",
    "\n",
    "    #input_data = torch.from_numpy(x_train)\n",
    "    #target_data = torch.from_numpy(y_train)\n",
    "    input_data = x_train\n",
    "    target_data = y_train\n",
    "    \n",
    "    #forward, backward, optimization\n",
    "    optimizer.zero_grad() #init grads of the optimizer\n",
    "    output = lmodel(input_data) #forward\n",
    "    \n",
    "    loss = loss_function(output, target_data)\n",
    "    #print(loss)\n",
    "    loss.backward()\n",
    "    optimizer.step()\n",
    "    \n",
    "    if (i+1) % 5 == 0:\n",
    "        print('Epoch [%d/%d], Loss: %.4f' %(i+1, epoch, loss.item()))"
   ]
  }
 ],
 "metadata": {
  "kernelspec": {
   "display_name": "Python 3",
   "language": "python",
   "name": "python3"
  },
  "language_info": {
   "codemirror_mode": {
    "name": "ipython",
    "version": 3
   },
   "file_extension": ".py",
   "mimetype": "text/x-python",
   "name": "python",
   "nbconvert_exporter": "python",
   "pygments_lexer": "ipython3",
   "version": "3.7.1"
  }
 },
 "nbformat": 4,
 "nbformat_minor": 2
}
